{
 "cells": [
  {
   "cell_type": "raw",
   "id": "8b359afa-5ebb-4702-954d-eddb12536760",
   "metadata": {},
   "source": [
    "1.What is Web Scraping? Why is it Used? Give three areas where Web Scraping is used to get data.\n",
    "ans:Web scrapping in process of scrapping large amount of data from web sites automatically.\n",
    "    Web scrapping used by variety of digital business that rely on data, for example ecomerce companies like amazone and\n",
    "    flipkart compete with each other by gathering the data of the product being sold on their rival companies web site.\n",
    "    Three areas where web scrapping is used to get data are as follows:\n",
    "    \n",
    "    1. Price Monitoring\n",
    "    Web Scraping can be used by companies to scrap the product data for their products and competing products as well to\n",
    "    see how it impacts their pricing strategies. Companies can use this data to fix the optimal pricing for their products\n",
    "    so that they can obtain maximum revenue.\n",
    "    \n",
    "    2. Market Research\n",
    "    Web scraping can be used for market research by companies. High-quality web scraped data obtained in large volumes can\n",
    "    be very helpful for companies in analyzing consumer trends and understanding which direction the company should move in\n",
    "    the future.\n",
    "    \n",
    "    3. Email Marketing\n",
    "    Companies can also use Web scraping for email marketing. They can collect Email ID’s from various sites using web\n",
    "    scraping and then send bulk promotional and marketing Emails to all the people owning these Email ID’s."
   ]
  },
  {
   "cell_type": "raw",
   "id": "e2076e78-36ae-456a-a94d-4ca9ac521717",
   "metadata": {},
   "source": [
    "2.What are the different methods used for Web Scraping?\n",
    "ans:Different methods used for web scrapping are as follows:\n",
    "    from urllib libraby we use urlopen() method to open the page and read the content of the page.\n",
    "    from bs4 library we use BeautifulSoup() method to create parse tree to extract suitable data.\n",
    "    from request library we use get() method to extract the suitable data that is identified by the Request-URL."
   ]
  },
  {
   "cell_type": "raw",
   "id": "a390731b-8ba9-4d5c-8740-c7d289c4678a",
   "metadata": {},
   "source": [
    "3.What is Beautiful Soup? Why is it used?\n",
    "ans:Beautiful soup is another Python library that is highly suitable for Web Scraping. It creates a parse tree that can be\n",
    "    used to extract data from HTML on a website. Beautiful soup also has multiple features for navigation, searching, and\n",
    "    modifying these parse trees."
   ]
  },
  {
   "cell_type": "raw",
   "id": "2aa4cd92-c922-42ed-b367-f0ffa34be0c2",
   "metadata": {},
   "source": [
    "4.Why is flask used in this Web Scraping project?\n",
    "ans:flask is used in this web scrapping project for the following reasons:\n",
    "    1:It is easy to upload the project from the github repo to flask and viseversa.\n",
    "    2:It is easy to integrate codes of different language with each other in flask.\n",
    "    3:It is easy to deploy the web page and test it on Mangodb.\n",
    "    4:It makes our work lot easier to make changes to the code as we have access to the project since we have uploaded to\n",
    "        the github.\n",
    "    5:It is very easy to deploy the entire project on a web server and get going."
   ]
  },
  {
   "cell_type": "raw",
   "id": "d9056d9a-8230-485b-ae45-6b3239204d27",
   "metadata": {},
   "source": [
    "5.Write the names of AWS services used in this project. Also, explain the use of each service.\n",
    "ans:AWS services used in this project are:\n",
    "    1:code pipeline:\n",
    "        It is used to connect the server to the respected github repo which is to be deployed in web server.\n",
    "    2:Beanstack:\n",
    "        It is used to connect to the code pipeline to get the data, process it and send the result back to the user.\n",
    "        basically it provides the environment where all the computation takes place."
   ]
  },
  {
   "cell_type": "code",
   "execution_count": null,
   "id": "aab7d1bf-1f44-4010-a293-36f4ddcf83fd",
   "metadata": {},
   "outputs": [],
   "source": []
  }
 ],
 "metadata": {
  "kernelspec": {
   "display_name": "Python 3 (ipykernel)",
   "language": "python",
   "name": "python3"
  },
  "language_info": {
   "codemirror_mode": {
    "name": "ipython",
    "version": 3
   },
   "file_extension": ".py",
   "mimetype": "text/x-python",
   "name": "python",
   "nbconvert_exporter": "python",
   "pygments_lexer": "ipython3",
   "version": "3.10.6"
  }
 },
 "nbformat": 4,
 "nbformat_minor": 5
}
