{
 "cells": [
  {
   "cell_type": "raw",
   "id": "c61063d9-aa2d-428a-a4b4-69215d0d14b4",
   "metadata": {},
   "source": [
    "1.Explain GET and POST methods.\n",
    "ans:In GET method we can not send large amount of data rather limited data is sent because the request parameter is appended\n",
    "    into the URL. In POST method large amount of data can be sent because the request parameter is appended into the body."
   ]
  },
  {
   "cell_type": "raw",
   "id": "5fa05c1b-67f1-49d9-b36e-2a725937a2ee",
   "metadata": {},
   "source": [
    "2.Why is request used in Flask?\n",
    "ans:The Request, in Flask, is an object that contains all the data sent from the Client to Server. This data can be recovered\n",
    "    using the GET/POST Methods"
   ]
  },
  {
   "cell_type": "raw",
   "id": "e6e1136d-766a-4175-a928-0731956eb48a",
   "metadata": {},
   "source": [
    "3.Why is redirect() used in Flask?\n",
    "ans:redirect() in Flask is defined as a function or utility in Flask which allows developers to redirect users to a specified\n",
    "    URL and assign a specified status code."
   ]
  },
  {
   "cell_type": "raw",
   "id": "61dc06d6-e263-4435-987f-d1127da7a5da",
   "metadata": {},
   "source": [
    "4.What are templates in Flask? Why is the render_template() function used?\n",
    "ans:Templates are files that contain static data as well as placeholders for dynamic data. A template is rendered with specific\n",
    "    data to produce a final document.\n",
    "    render_template() function is used to render the external HTML file to be returned as the response from the view\n",
    "    function."
   ]
  },
  {
   "cell_type": "raw",
   "id": "54cb04ce-da70-4ed0-b525-64d3cfc2d5e0",
   "metadata": {},
   "source": [
    "Q5. Create a simple API. Use Postman to test it. Attach the screenshot of the output in the Jupyter Notebook."
   ]
  },
  {
   "cell_type": "code",
   "execution_count": 7,
   "id": "82f87fc5-e755-434b-b266-fa030650a47c",
   "metadata": {},
   "outputs": [
    {
     "name": "stdout",
     "output_type": "stream",
     "text": [
      " * Serving Flask app '__main__'\n",
      " * Debug mode: off\n"
     ]
    },
    {
     "name": "stderr",
     "output_type": "stream",
     "text": [
      "WARNING: This is a development server. Do not use it in a production deployment. Use a production WSGI server instead.\n",
      " * Running on all addresses (0.0.0.0)\n",
      " * Running on http://127.0.0.1:5000\n",
      " * Running on http://172.18.0.24:5000\n",
      "Press CTRL+C to quit\n"
     ]
    }
   ],
   "source": [
    "from flask import Flask,request ,render_template , jsonify\n",
    "\n",
    "app = Flask(__name__)\n",
    "\n",
    "\n",
    "@app.route('/')\n",
    "def home_page():\n",
    "    return render_template('index.html')\n",
    "\n",
    "@app.route('/postman_action',methods=['POST'])\n",
    "def math_ops1():\n",
    "    if(request.method == 'POST'):\n",
    "        ops = request.json['operation']\n",
    "        num1 = int(request.json['num1'])\n",
    "        num2 = int(request.json['num2'])\n",
    "        if ops == 'add':\n",
    "            r = num1+num2\n",
    "            result = \"The sum of \" + str(num1) + 'and ' + str(num2) + \"is \" + str(r)\n",
    "        if ops == 'subtract':\n",
    "            r = num1-num2\n",
    "            result = \"The subtract of \" + str(num1) + 'and ' + str(num2) + \"is \" + str(r)\n",
    "        if ops == 'multiply':\n",
    "            r = num1*num2\n",
    "            result = \"The multiply of \" + str(num1) + 'and ' + str(num2) + \"is \" + str(r)\n",
    "        if ops == 'divide':\n",
    "            r = num1/num2\n",
    "            result = \"The divide of \" + str(num1) + 'and ' + str(num2) + \"is \" + str(r)\n",
    "            \n",
    "        return jsonify(result)\n",
    "\n",
    "if __name__==\"__main__\":\n",
    "    app.run(host=\"0.0.0.0\")"
   ]
  },
  {
   "cell_type": "markdown",
   "id": "28115528-2fa7-40e9-9350-c88be72e6443",
   "metadata": {},
   "source": [
    "![convert notebook to web app](https://red-psychiatrist-eugdz.ineuron.app/files/work/Screenshot%20(25).png?_xsrf=2%7C9013685f%7C08c7a9410d00971a86e0a6cdd90e93e6%7C1675347206)"
   ]
  },
  {
   "cell_type": "code",
   "execution_count": null,
   "id": "971b00bc-5320-4f29-99bb-32f1429f9742",
   "metadata": {},
   "outputs": [],
   "source": []
  }
 ],
 "metadata": {
  "kernelspec": {
   "display_name": "Python 3 (ipykernel)",
   "language": "python",
   "name": "python3"
  },
  "language_info": {
   "codemirror_mode": {
    "name": "ipython",
    "version": 3
   },
   "file_extension": ".py",
   "mimetype": "text/x-python",
   "name": "python",
   "nbconvert_exporter": "python",
   "pygments_lexer": "ipython3",
   "version": "3.10.6"
  }
 },
 "nbformat": 4,
 "nbformat_minor": 5
}
