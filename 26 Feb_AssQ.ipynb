{
 "cells": [
  {
   "cell_type": "raw",
   "id": "17ea1ffe-5d94-4b08-a054-04fa9050631a",
   "metadata": {},
   "source": [
    "Consider the below code to answer further questions:\n",
    "import numpy as np\n",
    "list_ = [ ‘1’ , ’2’ , ‘3’ , ‘4’ , ‘5’ ]\n",
    "array_list = np.array(object = list_)\n",
    "Q1. Is there any difference in the data type of variables list_ and array_list? If there is then write a code\n",
    "to print the data types of both the variables.\n",
    "ans:Yes there is a difference in the data type of variables list and array_list."
   ]
  },
  {
   "cell_type": "code",
   "execution_count": 5,
   "id": "6057ac1f-8599-486e-89ac-e5ad68c30439",
   "metadata": {},
   "outputs": [
    {
     "name": "stdout",
     "output_type": "stream",
     "text": [
      "<class 'list'>\n",
      "<class 'numpy.ndarray'>\n"
     ]
    }
   ],
   "source": [
    "import numpy as np\n",
    "list_ = [ '1' , '2' , '3' , '4' , '5' ]\n",
    "array_list = np.array(object = list_)\n",
    "print(type(list_))\n",
    "print(type(array_list))"
   ]
  },
  {
   "cell_type": "raw",
   "id": "e5b000d4-799d-4928-b461-4f06c5da77b8",
   "metadata": {},
   "source": [
    "Q2. Write a code to print the data type of each and every element of both the variables list_ and\n",
    "arra_list.\n"
   ]
  },
  {
   "cell_type": "code",
   "execution_count": 9,
   "id": "4bcd349b-eca6-4d26-8625-dfa527a592ef",
   "metadata": {},
   "outputs": [
    {
     "name": "stdout",
     "output_type": "stream",
     "text": [
      "Data type of each elements in variable list_ is:\n",
      "<class 'str'>\n",
      "<class 'str'>\n",
      "<class 'str'>\n",
      "<class 'str'>\n",
      "<class 'str'>\n",
      "\n",
      "Data type of each elements in variable array_list is:\n",
      "<class 'numpy.str_'>\n",
      "<class 'numpy.str_'>\n",
      "<class 'numpy.str_'>\n",
      "<class 'numpy.str_'>\n",
      "<class 'numpy.str_'>\n"
     ]
    }
   ],
   "source": [
    "import numpy as np\n",
    "list_ = [ '1' , '2' , '3' , '4' , '5' ]\n",
    "array_list = np.array(object = list_)\n",
    "print(\"Data type of each elements in variable list_ is:\")\n",
    "for i in list_:\n",
    "    print(type(i))\n",
    "print(\"\\nData type of each elements in variable array_list is:\")\n",
    "for i in array_list:\n",
    "    print(type(i))"
   ]
  },
  {
   "cell_type": "raw",
   "id": "281ca74f-ad5c-4269-ad60-d21544853dc2",
   "metadata": {},
   "source": [
    "Q3. Considering the following changes in the variable, array_list:\n",
    "array_list = np.array(object = list_, dtype = int)\n",
    "Will there be any difference in the data type of the elements present in both the variables, list_ and\n",
    "arra_list? If so then print the data types of each and every element present in both the variables, list_\n",
    "and arra_list.\n",
    "ans:Yes there will be difference in the data type of the elements present in both the variables if following change\n",
    "    (array_list = np.array(object = list_, dtype = int)) in variable array_list is made."
   ]
  },
  {
   "cell_type": "code",
   "execution_count": 10,
   "id": "8b32de9c-0f38-4b1f-b11a-6e872aeab01b",
   "metadata": {},
   "outputs": [
    {
     "name": "stdout",
     "output_type": "stream",
     "text": [
      "Data type of each elements in variable list_ is:\n",
      "<class 'str'>\n",
      "<class 'str'>\n",
      "<class 'str'>\n",
      "<class 'str'>\n",
      "<class 'str'>\n",
      "\n",
      "Data type of each elements in variable array_list is:\n",
      "<class 'numpy.int64'>\n",
      "<class 'numpy.int64'>\n",
      "<class 'numpy.int64'>\n",
      "<class 'numpy.int64'>\n",
      "<class 'numpy.int64'>\n"
     ]
    }
   ],
   "source": [
    "import numpy as np\n",
    "list_ = [ '1' , '2' , '3' , '4' , '5' ]\n",
    "array_list = np.array(object = list_,dtype=int)\n",
    "print(\"Data type of each elements in variable list_ is:\")\n",
    "for i in list_:\n",
    "    print(type(i))\n",
    "print(\"\\nData type of each elements in variable array_list is:\")\n",
    "for i in array_list:\n",
    "    print(type(i))"
   ]
  },
  {
   "cell_type": "raw",
   "id": "ffae63ff-afce-4865-b6f7-a8739dc04506",
   "metadata": {},
   "source": [
    "Consider the below code to answer further questions:\n",
    "import numpy as np\n",
    "num_list = [ [ 1 , 2 , 3 ] , [ 4 , 5 , 6 ] ]\n",
    "num_array = np.array(object = num_list)\n",
    "Q4. Write a code to find the following characteristics of variable, num_array:\n",
    "(i) shape\n",
    "(ii) size\n"
   ]
  },
  {
   "cell_type": "code",
   "execution_count": 16,
   "id": "7d0b4b97-e020-4c42-8588-9d5b8cc9701d",
   "metadata": {},
   "outputs": [
    {
     "name": "stdout",
     "output_type": "stream",
     "text": [
      "[[1 2 3]\n",
      " [4 5 6]]\n",
      "\n",
      "Shape of num_array is:  (2, 3)\n",
      "\n",
      "Size of num_array is:  6\n"
     ]
    }
   ],
   "source": [
    "import numpy as np\n",
    "num_list = [ [ 1 , 2 , 3 ] , [ 4 , 5 , 6 ] ]\n",
    "num_array = np.array(object = num_list)\n",
    "shape=np.shape(num_array)\n",
    "size=np.size(num_array)\n",
    "print(num_array)\n",
    "print(\"\\nShape of num_array is: \",shape)\n",
    "print(\"\\nSize of num_array is: \",size)"
   ]
  },
  {
   "cell_type": "raw",
   "id": "842cf936-7026-48e0-86f1-d4811a4df8f6",
   "metadata": {},
   "source": [
    "Q5. Write a code to create numpy array of 3*3 matrix containing zeros only, using a numpy array\n",
    "creation function.\n",
    "[Hint: The size of the array will be 9 and the shape will be (3,3).]\n"
   ]
  },
  {
   "cell_type": "code",
   "execution_count": 24,
   "id": "93e5d9c9-7bfe-4578-a7bb-da319249ccb6",
   "metadata": {},
   "outputs": [
    {
     "name": "stdout",
     "output_type": "stream",
     "text": [
      "[[0. 0. 0.]\n",
      " [0. 0. 0.]\n",
      " [0. 0. 0.]]\n",
      "\n",
      "Shape of a is:  (3, 3)\n",
      "\n",
      "Size of a is:  9\n"
     ]
    }
   ],
   "source": [
    "import numpy as np\n",
    "a=np.zeros((3,3))\n",
    "shape=np.shape(a)\n",
    "size=np.size(a)\n",
    "print(a)\n",
    "print(\"\\nShape of a is: \",shape)\n",
    "print(\"\\nSize of a is: \",size)"
   ]
  },
  {
   "cell_type": "raw",
   "id": "ddbb4ff6-715a-4159-b3d3-dc81e155afdc",
   "metadata": {},
   "source": [
    "Q6. Create an identity matrix of shape (5,5) using numpy functions?\n",
    "[Hint: An identity matrix is a matrix containing 1 diagonally and other elements will be 0.]"
   ]
  },
  {
   "cell_type": "code",
   "execution_count": 26,
   "id": "6e37b7bd-996a-4e0d-9d4a-7b905799cf8b",
   "metadata": {},
   "outputs": [
    {
     "name": "stdout",
     "output_type": "stream",
     "text": [
      "[[1. 0. 0. 0. 0.]\n",
      " [0. 1. 0. 0. 0.]\n",
      " [0. 0. 1. 0. 0.]\n",
      " [0. 0. 0. 1. 0.]\n",
      " [0. 0. 0. 0. 1.]]\n",
      "\n",
      "Shape of a is:  (5, 5)\n",
      "\n",
      "Size of a is:  25\n"
     ]
    }
   ],
   "source": [
    "import numpy as np\n",
    "a=np.eye(5)\n",
    "shape=np.shape(a)\n",
    "size=np.size(a)\n",
    "print(a)\n",
    "print(\"\\nShape of a is: \",shape)\n",
    "print(\"\\nSize of a is: \",size)"
   ]
  },
  {
   "cell_type": "code",
   "execution_count": null,
   "id": "9e37da66-22fa-4dfa-81f9-36b9564fa3ce",
   "metadata": {},
   "outputs": [],
   "source": []
  }
 ],
 "metadata": {
  "kernelspec": {
   "display_name": "Python 3 (ipykernel)",
   "language": "python",
   "name": "python3"
  },
  "language_info": {
   "codemirror_mode": {
    "name": "ipython",
    "version": 3
   },
   "file_extension": ".py",
   "mimetype": "text/x-python",
   "name": "python",
   "nbconvert_exporter": "python",
   "pygments_lexer": "ipython3",
   "version": "3.10.6"
  }
 },
 "nbformat": 4,
 "nbformat_minor": 5
}
